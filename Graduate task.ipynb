{
 "cells": [
  {
   "cell_type": "code",
   "execution_count": 152,
   "id": "98144148",
   "metadata": {},
   "outputs": [],
   "source": [
    "import pandas as pd\n",
    "import numpy as np\n",
    "import seaborn as sn\n",
    "import matplotlib.pyplot as plt\n",
    "from pylab import rcParams\n",
    "rcParams['figure.figsize'] = 11,7"
   ]
  },
  {
   "cell_type": "markdown",
   "id": "ab2c8dc9",
   "metadata": {},
   "source": [
    "1. Загрузить файл в датафрейм"
   ]
  },
  {
   "cell_type": "code",
   "execution_count": 4,
   "id": "9d4f5125",
   "metadata": {},
   "outputs": [
    {
     "data": {
      "text/html": [
       "<div>\n",
       "<style scoped>\n",
       "    .dataframe tbody tr th:only-of-type {\n",
       "        vertical-align: middle;\n",
       "    }\n",
       "\n",
       "    .dataframe tbody tr th {\n",
       "        vertical-align: top;\n",
       "    }\n",
       "\n",
       "    .dataframe thead th {\n",
       "        text-align: right;\n",
       "    }\n",
       "</style>\n",
       "<table border=\"1\" class=\"dataframe\">\n",
       "  <thead>\n",
       "    <tr style=\"text-align: right;\">\n",
       "      <th></th>\n",
       "      <th>satisfaction_level</th>\n",
       "      <th>last_evaluation</th>\n",
       "      <th>number_project</th>\n",
       "      <th>average_montly_hours</th>\n",
       "      <th>time_spend_company</th>\n",
       "      <th>Work_accident</th>\n",
       "      <th>left</th>\n",
       "      <th>promotion_last_5years</th>\n",
       "      <th>department</th>\n",
       "      <th>salary</th>\n",
       "    </tr>\n",
       "  </thead>\n",
       "  <tbody>\n",
       "    <tr>\n",
       "      <th>0</th>\n",
       "      <td>0.38</td>\n",
       "      <td>0.53</td>\n",
       "      <td>2</td>\n",
       "      <td>157</td>\n",
       "      <td>3</td>\n",
       "      <td>0</td>\n",
       "      <td>1</td>\n",
       "      <td>0</td>\n",
       "      <td>sales</td>\n",
       "      <td>low</td>\n",
       "    </tr>\n",
       "    <tr>\n",
       "      <th>1</th>\n",
       "      <td>0.80</td>\n",
       "      <td>0.86</td>\n",
       "      <td>5</td>\n",
       "      <td>262</td>\n",
       "      <td>6</td>\n",
       "      <td>0</td>\n",
       "      <td>1</td>\n",
       "      <td>0</td>\n",
       "      <td>sales</td>\n",
       "      <td>medium</td>\n",
       "    </tr>\n",
       "    <tr>\n",
       "      <th>2</th>\n",
       "      <td>0.11</td>\n",
       "      <td>0.88</td>\n",
       "      <td>7</td>\n",
       "      <td>272</td>\n",
       "      <td>4</td>\n",
       "      <td>0</td>\n",
       "      <td>1</td>\n",
       "      <td>0</td>\n",
       "      <td>sales</td>\n",
       "      <td>medium</td>\n",
       "    </tr>\n",
       "    <tr>\n",
       "      <th>3</th>\n",
       "      <td>0.72</td>\n",
       "      <td>0.87</td>\n",
       "      <td>5</td>\n",
       "      <td>223</td>\n",
       "      <td>5</td>\n",
       "      <td>0</td>\n",
       "      <td>1</td>\n",
       "      <td>0</td>\n",
       "      <td>sales</td>\n",
       "      <td>low</td>\n",
       "    </tr>\n",
       "    <tr>\n",
       "      <th>4</th>\n",
       "      <td>0.37</td>\n",
       "      <td>0.52</td>\n",
       "      <td>2</td>\n",
       "      <td>159</td>\n",
       "      <td>3</td>\n",
       "      <td>0</td>\n",
       "      <td>1</td>\n",
       "      <td>0</td>\n",
       "      <td>sales</td>\n",
       "      <td>low</td>\n",
       "    </tr>\n",
       "    <tr>\n",
       "      <th>...</th>\n",
       "      <td>...</td>\n",
       "      <td>...</td>\n",
       "      <td>...</td>\n",
       "      <td>...</td>\n",
       "      <td>...</td>\n",
       "      <td>...</td>\n",
       "      <td>...</td>\n",
       "      <td>...</td>\n",
       "      <td>...</td>\n",
       "      <td>...</td>\n",
       "    </tr>\n",
       "    <tr>\n",
       "      <th>14994</th>\n",
       "      <td>0.40</td>\n",
       "      <td>0.57</td>\n",
       "      <td>2</td>\n",
       "      <td>151</td>\n",
       "      <td>3</td>\n",
       "      <td>0</td>\n",
       "      <td>1</td>\n",
       "      <td>0</td>\n",
       "      <td>support</td>\n",
       "      <td>low</td>\n",
       "    </tr>\n",
       "    <tr>\n",
       "      <th>14995</th>\n",
       "      <td>0.37</td>\n",
       "      <td>0.48</td>\n",
       "      <td>2</td>\n",
       "      <td>160</td>\n",
       "      <td>3</td>\n",
       "      <td>0</td>\n",
       "      <td>1</td>\n",
       "      <td>0</td>\n",
       "      <td>support</td>\n",
       "      <td>low</td>\n",
       "    </tr>\n",
       "    <tr>\n",
       "      <th>14996</th>\n",
       "      <td>0.37</td>\n",
       "      <td>0.53</td>\n",
       "      <td>2</td>\n",
       "      <td>143</td>\n",
       "      <td>3</td>\n",
       "      <td>0</td>\n",
       "      <td>1</td>\n",
       "      <td>0</td>\n",
       "      <td>support</td>\n",
       "      <td>low</td>\n",
       "    </tr>\n",
       "    <tr>\n",
       "      <th>14997</th>\n",
       "      <td>0.11</td>\n",
       "      <td>0.96</td>\n",
       "      <td>6</td>\n",
       "      <td>280</td>\n",
       "      <td>4</td>\n",
       "      <td>0</td>\n",
       "      <td>1</td>\n",
       "      <td>0</td>\n",
       "      <td>support</td>\n",
       "      <td>low</td>\n",
       "    </tr>\n",
       "    <tr>\n",
       "      <th>14998</th>\n",
       "      <td>0.37</td>\n",
       "      <td>0.52</td>\n",
       "      <td>2</td>\n",
       "      <td>158</td>\n",
       "      <td>3</td>\n",
       "      <td>0</td>\n",
       "      <td>1</td>\n",
       "      <td>0</td>\n",
       "      <td>support</td>\n",
       "      <td>low</td>\n",
       "    </tr>\n",
       "  </tbody>\n",
       "</table>\n",
       "<p>14999 rows × 10 columns</p>\n",
       "</div>"
      ],
      "text/plain": [
       "       satisfaction_level  last_evaluation  number_project  \\\n",
       "0                    0.38             0.53               2   \n",
       "1                    0.80             0.86               5   \n",
       "2                    0.11             0.88               7   \n",
       "3                    0.72             0.87               5   \n",
       "4                    0.37             0.52               2   \n",
       "...                   ...              ...             ...   \n",
       "14994                0.40             0.57               2   \n",
       "14995                0.37             0.48               2   \n",
       "14996                0.37             0.53               2   \n",
       "14997                0.11             0.96               6   \n",
       "14998                0.37             0.52               2   \n",
       "\n",
       "       average_montly_hours  time_spend_company  Work_accident  left  \\\n",
       "0                       157                   3              0     1   \n",
       "1                       262                   6              0     1   \n",
       "2                       272                   4              0     1   \n",
       "3                       223                   5              0     1   \n",
       "4                       159                   3              0     1   \n",
       "...                     ...                 ...            ...   ...   \n",
       "14994                   151                   3              0     1   \n",
       "14995                   160                   3              0     1   \n",
       "14996                   143                   3              0     1   \n",
       "14997                   280                   4              0     1   \n",
       "14998                   158                   3              0     1   \n",
       "\n",
       "       promotion_last_5years department  salary  \n",
       "0                          0      sales     low  \n",
       "1                          0      sales  medium  \n",
       "2                          0      sales  medium  \n",
       "3                          0      sales     low  \n",
       "4                          0      sales     low  \n",
       "...                      ...        ...     ...  \n",
       "14994                      0    support     low  \n",
       "14995                      0    support     low  \n",
       "14996                      0    support     low  \n",
       "14997                      0    support     low  \n",
       "14998                      0    support     low  \n",
       "\n",
       "[14999 rows x 10 columns]"
      ]
     },
     "execution_count": 4,
     "metadata": {},
     "output_type": "execute_result"
    }
   ],
   "source": [
    "df=pd.read_csv(\"HR.csv\")\n",
    "df"
   ]
  },
  {
   "cell_type": "markdown",
   "id": "d1ac1c1b",
   "metadata": {},
   "source": [
    "2. Основные статистики для переменных"
   ]
  },
  {
   "cell_type": "code",
   "execution_count": 5,
   "id": "00ed09fe",
   "metadata": {},
   "outputs": [
    {
     "data": {
      "text/html": [
       "<div>\n",
       "<style scoped>\n",
       "    .dataframe tbody tr th:only-of-type {\n",
       "        vertical-align: middle;\n",
       "    }\n",
       "\n",
       "    .dataframe tbody tr th {\n",
       "        vertical-align: top;\n",
       "    }\n",
       "\n",
       "    .dataframe thead th {\n",
       "        text-align: right;\n",
       "    }\n",
       "</style>\n",
       "<table border=\"1\" class=\"dataframe\">\n",
       "  <thead>\n",
       "    <tr style=\"text-align: right;\">\n",
       "      <th></th>\n",
       "      <th>satisfaction_level</th>\n",
       "      <th>last_evaluation</th>\n",
       "      <th>number_project</th>\n",
       "      <th>average_montly_hours</th>\n",
       "      <th>time_spend_company</th>\n",
       "      <th>Work_accident</th>\n",
       "      <th>left</th>\n",
       "      <th>promotion_last_5years</th>\n",
       "    </tr>\n",
       "  </thead>\n",
       "  <tbody>\n",
       "    <tr>\n",
       "      <th>count</th>\n",
       "      <td>14999.000000</td>\n",
       "      <td>14999.000000</td>\n",
       "      <td>14999.000000</td>\n",
       "      <td>14999.000000</td>\n",
       "      <td>14999.000000</td>\n",
       "      <td>14999.000000</td>\n",
       "      <td>14999.000000</td>\n",
       "      <td>14999.000000</td>\n",
       "    </tr>\n",
       "    <tr>\n",
       "      <th>mean</th>\n",
       "      <td>0.612834</td>\n",
       "      <td>0.716102</td>\n",
       "      <td>3.803054</td>\n",
       "      <td>201.050337</td>\n",
       "      <td>3.498233</td>\n",
       "      <td>0.144610</td>\n",
       "      <td>0.238083</td>\n",
       "      <td>0.021268</td>\n",
       "    </tr>\n",
       "    <tr>\n",
       "      <th>std</th>\n",
       "      <td>0.248631</td>\n",
       "      <td>0.171169</td>\n",
       "      <td>1.232592</td>\n",
       "      <td>49.943099</td>\n",
       "      <td>1.460136</td>\n",
       "      <td>0.351719</td>\n",
       "      <td>0.425924</td>\n",
       "      <td>0.144281</td>\n",
       "    </tr>\n",
       "    <tr>\n",
       "      <th>min</th>\n",
       "      <td>0.090000</td>\n",
       "      <td>0.360000</td>\n",
       "      <td>2.000000</td>\n",
       "      <td>96.000000</td>\n",
       "      <td>2.000000</td>\n",
       "      <td>0.000000</td>\n",
       "      <td>0.000000</td>\n",
       "      <td>0.000000</td>\n",
       "    </tr>\n",
       "    <tr>\n",
       "      <th>25%</th>\n",
       "      <td>0.440000</td>\n",
       "      <td>0.560000</td>\n",
       "      <td>3.000000</td>\n",
       "      <td>156.000000</td>\n",
       "      <td>3.000000</td>\n",
       "      <td>0.000000</td>\n",
       "      <td>0.000000</td>\n",
       "      <td>0.000000</td>\n",
       "    </tr>\n",
       "    <tr>\n",
       "      <th>50%</th>\n",
       "      <td>0.640000</td>\n",
       "      <td>0.720000</td>\n",
       "      <td>4.000000</td>\n",
       "      <td>200.000000</td>\n",
       "      <td>3.000000</td>\n",
       "      <td>0.000000</td>\n",
       "      <td>0.000000</td>\n",
       "      <td>0.000000</td>\n",
       "    </tr>\n",
       "    <tr>\n",
       "      <th>75%</th>\n",
       "      <td>0.820000</td>\n",
       "      <td>0.870000</td>\n",
       "      <td>5.000000</td>\n",
       "      <td>245.000000</td>\n",
       "      <td>4.000000</td>\n",
       "      <td>0.000000</td>\n",
       "      <td>0.000000</td>\n",
       "      <td>0.000000</td>\n",
       "    </tr>\n",
       "    <tr>\n",
       "      <th>max</th>\n",
       "      <td>1.000000</td>\n",
       "      <td>1.000000</td>\n",
       "      <td>7.000000</td>\n",
       "      <td>310.000000</td>\n",
       "      <td>10.000000</td>\n",
       "      <td>1.000000</td>\n",
       "      <td>1.000000</td>\n",
       "      <td>1.000000</td>\n",
       "    </tr>\n",
       "  </tbody>\n",
       "</table>\n",
       "</div>"
      ],
      "text/plain": [
       "       satisfaction_level  last_evaluation  number_project  \\\n",
       "count        14999.000000     14999.000000    14999.000000   \n",
       "mean             0.612834         0.716102        3.803054   \n",
       "std              0.248631         0.171169        1.232592   \n",
       "min              0.090000         0.360000        2.000000   \n",
       "25%              0.440000         0.560000        3.000000   \n",
       "50%              0.640000         0.720000        4.000000   \n",
       "75%              0.820000         0.870000        5.000000   \n",
       "max              1.000000         1.000000        7.000000   \n",
       "\n",
       "       average_montly_hours  time_spend_company  Work_accident          left  \\\n",
       "count          14999.000000        14999.000000   14999.000000  14999.000000   \n",
       "mean             201.050337            3.498233       0.144610      0.238083   \n",
       "std               49.943099            1.460136       0.351719      0.425924   \n",
       "min               96.000000            2.000000       0.000000      0.000000   \n",
       "25%              156.000000            3.000000       0.000000      0.000000   \n",
       "50%              200.000000            3.000000       0.000000      0.000000   \n",
       "75%              245.000000            4.000000       0.000000      0.000000   \n",
       "max              310.000000           10.000000       1.000000      1.000000   \n",
       "\n",
       "       promotion_last_5years  \n",
       "count           14999.000000  \n",
       "mean                0.021268  \n",
       "std                 0.144281  \n",
       "min                 0.000000  \n",
       "25%                 0.000000  \n",
       "50%                 0.000000  \n",
       "75%                 0.000000  \n",
       "max                 1.000000  "
      ]
     },
     "execution_count": 5,
     "metadata": {},
     "output_type": "execute_result"
    }
   ],
   "source": [
    "df.describe()"
   ]
  },
  {
   "cell_type": "code",
   "execution_count": 205,
   "id": "d5ef321b",
   "metadata": {},
   "outputs": [
    {
     "name": "stdout",
     "output_type": "stream",
     "text": [
      "0    12830\n",
      "1     2169\n",
      "Name: Work_accident, dtype: int64\n",
      "----------------------------------\n",
      "0    14680\n",
      "1      319\n",
      "Name: promotion_last_5years, dtype: int64\n",
      "----------------------------------\n",
      "3     6443\n",
      "2     3244\n",
      "4     2557\n",
      "5     1473\n",
      "6      718\n",
      "10     214\n",
      "7      188\n",
      "8      162\n",
      "Name: time_spend_company, dtype: int64\n",
      "----------------------------------\n",
      "2    2388\n",
      "3    4055\n",
      "4    4365\n",
      "5    2761\n",
      "6    1174\n",
      "7     256\n",
      "Name: number_project, dtype: int64\n",
      "----------------------------------\n",
      "Модальное значение: \n",
      "   satisfaction_level  last_evaluation  number_project  average_montly_hours  \\\n",
      "0                 0.1             0.55             4.0                   135   \n",
      "1                 NaN              NaN             NaN                   156   \n",
      "\n",
      "   time_spend_company  Work_accident  left  promotion_last_5years department  \\\n",
      "0                 3.0            0.0   0.0                    0.0      sales   \n",
      "1                 NaN            NaN   NaN                    NaN        NaN   \n",
      "\n",
      "  salary  \n",
      "0    low  \n",
      "1    NaN  \n",
      "----------------------------------\n",
      "Медианы: \n",
      "satisfaction_level        0.64\n",
      "last_evaluation           0.72\n",
      "number_project            4.00\n",
      "average_montly_hours    200.00\n",
      "time_spend_company        3.00\n",
      "dtype: float64\n"
     ]
    }
   ],
   "source": [
    "print(df.Work_accident.value_counts())\n",
    "print('----------------------------------')\n",
    "print(df.promotion_last_5years.value_counts())\n",
    "print('----------------------------------')\n",
    "print(df.time_spend_company.value_counts())\n",
    "print('----------------------------------')\n",
    "print(df.number_project.value_counts().sort_index())\n",
    "print('----------------------------------')\n",
    "print('Модальное значение: ')\n",
    "print(df.mode())\n",
    "print('----------------------------------')\n",
    "print('Медианы: ')\n",
    "med = df.drop(df.columns[[5, 6, 7, 8, 9]], axis=1) \n",
    "print(med.median())"
   ]
  },
  {
   "cell_type": "markdown",
   "id": "f1e0ff63",
   "metadata": {},
   "source": [
    "3. Корреляционная матрица для количественных величин"
   ]
  },
  {
   "cell_type": "code",
   "execution_count": 6,
   "id": "51e07e51",
   "metadata": {},
   "outputs": [
    {
     "name": "stdout",
     "output_type": "stream",
     "text": [
      "                      satisfaction_level  last_evaluation  number_project  \\\n",
      "satisfaction_level              1.000000         0.105021       -0.142970   \n",
      "last_evaluation                 0.105021         1.000000        0.349333   \n",
      "number_project                 -0.142970         0.349333        1.000000   \n",
      "average_montly_hours           -0.020048         0.339742        0.417211   \n",
      "time_spend_company             -0.100866         0.131591        0.196786   \n",
      "\n",
      "                      average_montly_hours  time_spend_company  \n",
      "satisfaction_level               -0.020048           -0.100866  \n",
      "last_evaluation                   0.339742            0.131591  \n",
      "number_project                    0.417211            0.196786  \n",
      "average_montly_hours              1.000000            0.127755  \n",
      "time_spend_company                0.127755            1.000000  \n"
     ]
    },
    {
     "data": {
      "text/plain": [
       "<AxesSubplot:>"
      ]
     },
     "execution_count": 6,
     "metadata": {},
     "output_type": "execute_result"
    },
    {
     "data": {
      "image/png": "[encoded data removed]",
      "text/plain": [
       "<Figure size 432x288 with 2 Axes>"
      ]
     },
     "metadata": {
      "needs_background": "light"
     },
     "output_type": "display_data"
    }
   ],
   "source": [
    "columns = ['satisfaction_level','last_evaluation', 'number_project', 'average_montly_hours','time_spend_company']\n",
    "corr_matrix = df.loc[:,columns].corr()\n",
    "print(corr_matrix)\n",
    "sn.heatmap(corr_matrix, annot=True)"
   ]
  },
  {
   "cell_type": "markdown",
   "id": "1cb81ec3",
   "metadata": {},
   "source": [
    "Из всех количественных величин наиболее коррелируют (что логично) - это количество проектов и количество времени проведённых на работе. Наименее скоррелированные величины это удовлетворенность сотрудника и количество часов на рабочем месте."
   ]
  },
  {
   "cell_type": "markdown",
   "id": "c06e32e9",
   "metadata": {},
   "source": [
    "4. Рассчитать сколько сотрудников работает в каждом департаменте"
   ]
  },
  {
   "cell_type": "code",
   "execution_count": 7,
   "id": "7b2eae30",
   "metadata": {},
   "outputs": [
    {
     "name": "stdout",
     "output_type": "stream",
     "text": [
      "sales          4140\n",
      "technical      2720\n",
      "support        2229\n",
      "IT             1227\n",
      "product_mng     902\n",
      "marketing       858\n",
      "RandD           787\n",
      "accounting      767\n",
      "hr              739\n",
      "management      630\n",
      "Name: department, dtype: int64\n",
      "sales          27.601840\n",
      "technical      18.134542\n",
      "support        14.860991\n",
      "IT              8.180545\n",
      "product_mng     6.013734\n",
      "marketing       5.720381\n",
      "RandD           5.247016\n",
      "accounting      5.113674\n",
      "hr              4.926995\n",
      "management      4.200280\n",
      "Name: department, dtype: float64\n"
     ]
    }
   ],
   "source": [
    "#также указываю в процентном соотношении\n",
    "print(df.department.value_counts())\n",
    "print(df.department.value_counts().div(len(df)).mul(100))"
   ]
  },
  {
   "cell_type": "markdown",
   "id": "c93323b7",
   "metadata": {},
   "source": [
    "5. Показать распределение сотрудников по зарплатам."
   ]
  },
  {
   "cell_type": "code",
   "execution_count": 178,
   "id": "8bd52176",
   "metadata": {},
   "outputs": [
    {
     "data": {
      "image/png": "[encoded data removed]",
      "text/plain": [
       "<Figure size 792x504 with 1 Axes>"
      ]
     },
     "metadata": {
      "needs_background": "light"
     },
     "output_type": "display_data"
    }
   ],
   "source": [
    "salary_level = df.salary.value_counts()\n",
    "salary_level.plot(kind='bar', title='Распределение сотрудников по уровню заработной платы', \\\n",
    "                  xlabel='Уровни заработной платы', ylabel='Количество сотрудников', color='c', width = 0.5)\n",
    "for i, val in enumerate(salary_level):\n",
    "    plt.text(i, val, int(val), horizontalalignment='center', verticalalignment='bottom', fontdict={'size':12})"
   ]
  },
  {
   "cell_type": "markdown",
   "id": "105d09d7",
   "metadata": {},
   "source": [
    "6. Показать распределение сотрудников по зарплатам в каждом департаменте."
   ]
  },
  {
   "cell_type": "code",
   "execution_count": 167,
   "id": "7157ca84",
   "metadata": {},
   "outputs": [
    {
     "data": {
      "text/html": [
       "<div>\n",
       "<style scoped>\n",
       "    .dataframe tbody tr th:only-of-type {\n",
       "        vertical-align: middle;\n",
       "    }\n",
       "\n",
       "    .dataframe tbody tr th {\n",
       "        vertical-align: top;\n",
       "    }\n",
       "\n",
       "    .dataframe thead th {\n",
       "        text-align: right;\n",
       "    }\n",
       "</style>\n",
       "<table border=\"1\" class=\"dataframe\">\n",
       "  <thead>\n",
       "    <tr style=\"text-align: right;\">\n",
       "      <th>salary</th>\n",
       "      <th>high</th>\n",
       "      <th>low</th>\n",
       "      <th>medium</th>\n",
       "    </tr>\n",
       "    <tr>\n",
       "      <th>department</th>\n",
       "      <th></th>\n",
       "      <th></th>\n",
       "      <th></th>\n",
       "    </tr>\n",
       "  </thead>\n",
       "  <tbody>\n",
       "    <tr>\n",
       "      <th>IT</th>\n",
       "      <td>83</td>\n",
       "      <td>609</td>\n",
       "      <td>535</td>\n",
       "    </tr>\n",
       "    <tr>\n",
       "      <th>RandD</th>\n",
       "      <td>51</td>\n",
       "      <td>364</td>\n",
       "      <td>372</td>\n",
       "    </tr>\n",
       "    <tr>\n",
       "      <th>accounting</th>\n",
       "      <td>74</td>\n",
       "      <td>358</td>\n",
       "      <td>335</td>\n",
       "    </tr>\n",
       "    <tr>\n",
       "      <th>hr</th>\n",
       "      <td>45</td>\n",
       "      <td>335</td>\n",
       "      <td>359</td>\n",
       "    </tr>\n",
       "    <tr>\n",
       "      <th>management</th>\n",
       "      <td>225</td>\n",
       "      <td>180</td>\n",
       "      <td>225</td>\n",
       "    </tr>\n",
       "    <tr>\n",
       "      <th>marketing</th>\n",
       "      <td>80</td>\n",
       "      <td>402</td>\n",
       "      <td>376</td>\n",
       "    </tr>\n",
       "    <tr>\n",
       "      <th>product_mng</th>\n",
       "      <td>68</td>\n",
       "      <td>451</td>\n",
       "      <td>383</td>\n",
       "    </tr>\n",
       "    <tr>\n",
       "      <th>sales</th>\n",
       "      <td>269</td>\n",
       "      <td>2099</td>\n",
       "      <td>1772</td>\n",
       "    </tr>\n",
       "    <tr>\n",
       "      <th>support</th>\n",
       "      <td>141</td>\n",
       "      <td>1146</td>\n",
       "      <td>942</td>\n",
       "    </tr>\n",
       "    <tr>\n",
       "      <th>technical</th>\n",
       "      <td>201</td>\n",
       "      <td>1372</td>\n",
       "      <td>1147</td>\n",
       "    </tr>\n",
       "  </tbody>\n",
       "</table>\n",
       "</div>"
      ],
      "text/plain": [
       "salary       high   low  medium\n",
       "department                     \n",
       "IT             83   609     535\n",
       "RandD          51   364     372\n",
       "accounting     74   358     335\n",
       "hr             45   335     359\n",
       "management    225   180     225\n",
       "marketing      80   402     376\n",
       "product_mng    68   451     383\n",
       "sales         269  2099    1772\n",
       "support       141  1146     942\n",
       "technical     201  1372    1147"
      ]
     },
     "execution_count": 167,
     "metadata": {},
     "output_type": "execute_result"
    }
   ],
   "source": [
    "salary_in_departments = df.groupby(['department', 'salary'])[['satisfaction_level']].count()\n",
    "salary_in_departments.columns = ['amount']\n",
    "salary_in_departments = salary_in_departments.unstack().amount\n",
    "salary_in_departments"
   ]
  },
  {
   "cell_type": "code",
   "execution_count": 176,
   "id": "6ebdc7bb",
   "metadata": {},
   "outputs": [
    {
     "data": {
      "text/plain": [
       "<AxesSubplot:title={'center':'Распределение сотрудников по уровню заработной платы'}, xlabel='Уровни заработной платы по отделам', ylabel='Количество сотрудников'>"
      ]
     },
     "execution_count": 176,
     "metadata": {},
     "output_type": "execute_result"
    },
    {
     "data": {
      "image/png": "[encoded data removed]",
      "text/plain": [
       "<Figure size 792x504 with 1 Axes>"
      ]
     },
     "metadata": {
      "needs_background": "light"
     },
     "output_type": "display_data"
    }
   ],
   "source": [
    "salary_in_departments.plot(kind='bar', title='Распределение сотрудников по уровню заработной платы', \\\n",
    "                 xlabel='Уровни заработной платы по отделам', ylabel='Количество сотрудников',\\\n",
    "                 color={'low':'lightblue',\\\n",
    "           'medium':'steelblue', 'high':'midnightblue'}, width = 0.75)"
   ]
  },
  {
   "cell_type": "markdown",
   "id": "929a6472",
   "metadata": {},
   "source": [
    "7. Проверить гипотезу, что сотрудники с высоким окладом проводят на работе больше времени, чем сотрудники с низким окладом"
   ]
  },
  {
   "cell_type": "code",
   "execution_count": 181,
   "id": "63832224",
   "metadata": {},
   "outputs": [],
   "source": [
    "df_low = df[df['salary'] == 'low']['average_montly_hours']\n",
    "df_high = df[df['salary'] == 'high']['average_montly_hours']"
   ]
  },
  {
   "cell_type": "markdown",
   "id": "496beb4f",
   "metadata": {},
   "source": [
    "Переформилирую гипотезу и проверю равенство медиан, что позволит утверждать, что сотрудники с высоким окладом проводят времени на работе столько же, сколько и сотрудники с низким окладом.\n",
    "Соответственно Н0: m1 = m2 "
   ]
  },
  {
   "cell_type": "code",
   "execution_count": null,
   "id": "00bdb02f",
   "metadata": {},
   "outputs": [],
   "source": [
    "from scipy import stats"
   ]
  },
  {
   "cell_type": "code",
   "execution_count": 183,
   "id": "0dd6012f",
   "metadata": {},
   "outputs": [
    {
     "name": "stdout",
     "output_type": "stream",
     "text": [
      "p-value: 0.8241330720858693\n"
     ]
    }
   ],
   "source": [
    "result = stats.mannwhitneyu(df_low, df_high)\n",
    "print('p-value: {0}'.format(result[1]))"
   ]
  },
  {
   "cell_type": "markdown",
   "id": "be764213",
   "metadata": {},
   "source": [
    "Так как значение очень велико нет основания отвергнуть гипотезу, соответственно делаем вывод, что уровень зарплаты незначительно влияет на количество времени, проведённое на работе."
   ]
  },
  {
   "cell_type": "markdown",
   "id": "b7121cdc",
   "metadata": {},
   "source": [
    "8. Рассчитать показатели среди уволившихся и не уволившихся сотрудников:\n",
    "-доля сотрудников с повышением за последние 5 лет\n",
    "\n",
    "-средняя степень удовлетворенности\n",
    "\n",
    "-среднее количество проектов"
   ]
  },
  {
   "cell_type": "code",
   "execution_count": 17,
   "id": "1918986d",
   "metadata": {},
   "outputs": [
    {
     "name": "stdout",
     "output_type": "stream",
     "text": [
      "Доля сотрудников с повышением за последние 5 лет среди уволившихся сотрудников, в %:  0.5320638476617194\n",
      "Средняя степень удовлетворенности среди уволившихся сотрудников:  0.41\n",
      "Среднее количество проектов среди уволившихся сотрудников:  4.0\n"
     ]
    }
   ],
   "source": [
    "df_left = df.loc[df['left'] == 1]\n",
    "print('Доля сотрудников с повышением за последние 5 лет среди уволившихся сотрудников, в %: ', \\\n",
    "      df_left.promotion_last_5years.value_counts().div(len(df_left)).mul(100)[1])\n",
    "print('Средняя степень удовлетворенности среди уволившихся сотрудников: ', df_left.satisfaction_level.median())\n",
    "print('Среднее количество проектов среди уволившихся сотрудников: ', df_left.number_project.median())"
   ]
  },
  {
   "cell_type": "code",
   "execution_count": 18,
   "id": "17e7c69f",
   "metadata": {},
   "outputs": [
    {
     "name": "stdout",
     "output_type": "stream",
     "text": [
      "Доля сотрудников с повышением за последние 5 лет среди не уволившихся сотрудников, в %:  2.6251312565628284\n",
      "Средняя степень удовлетворенности среди не уволившихся сотрудников:  0.69\n",
      "Среднее количество проектов среди не уволившихся сотрудников:  4.0\n"
     ]
    }
   ],
   "source": [
    "df_not_left = df.loc[df['left'] == 0]\n",
    "print('Доля сотрудников с повышением за последние 5 лет среди не уволившихся сотрудников, в %: ', \\\n",
    "      df_not_left.promotion_last_5years.value_counts().div(len(df_not_left)).mul(100)[1])\n",
    "print('Средняя степень удовлетворенности среди не уволившихся сотрудников: ', df_not_left.satisfaction_level.median())\n",
    "print('Среднее количество проектов среди не уволившихся сотрудников: ', df_not_left.number_project.median())"
   ]
  },
  {
   "cell_type": "markdown",
   "id": "ae60f6ac",
   "metadata": {},
   "source": [
    "9. Построить LDA, предсказывающую уволился ли сотрудник (не учитывать department и salary)\n",
    "\n",
    "Оценить качество модели на тестовой выборке."
   ]
  },
  {
   "cell_type": "code",
   "execution_count": 13,
   "id": "43a1340f",
   "metadata": {},
   "outputs": [],
   "source": [
    "from sklearn.model_selection import train_test_split\n",
    "from sklearn.discriminant_analysis import LinearDiscriminantAnalysis\n",
    "from sklearn.metrics import accuracy_score"
   ]
  },
  {
   "cell_type": "code",
   "execution_count": 14,
   "id": "de29f00c",
   "metadata": {},
   "outputs": [],
   "source": [
    "df2 = df.drop(df.columns[[8, 9]], axis=1) "
   ]
  },
  {
   "cell_type": "code",
   "execution_count": 20,
   "id": "2d1e8e2f",
   "metadata": {},
   "outputs": [
    {
     "data": {
      "text/plain": [
       "3000"
      ]
     },
     "execution_count": 20,
     "metadata": {},
     "output_type": "execute_result"
    }
   ],
   "source": [
    "X_train, X_test, y_train, y_test = train_test_split(df2, df2['left'], test_size=0.2)\n",
    "lda = LinearDiscriminantAnalysis()\n",
    "lda.fit(X_train, y_train)\n",
    "y_pred = lda.predict(X_test)\n",
    "len(y_test)"
   ]
  },
  {
   "cell_type": "code",
   "execution_count": 24,
   "id": "357b69ee",
   "metadata": {},
   "outputs": [
    {
     "data": {
      "text/plain": [
       "0.753"
      ]
     },
     "execution_count": 24,
     "metadata": {},
     "output_type": "execute_result"
    }
   ],
   "source": [
    "accuracy_score(y_test, y_pred)"
   ]
  },
  {
   "cell_type": "code",
   "execution_count": 19,
   "id": "0491545f",
   "metadata": {},
   "outputs": [
    {
     "name": "stdout",
     "output_type": "stream",
     "text": [
      "0    11428\n",
      "1     3571\n",
      "Name: left, dtype: int64\n",
      "0    76.191746\n",
      "1    23.808254\n",
      "Name: left, dtype: float64\n"
     ]
    }
   ],
   "source": [
    "print(df.left.value_counts())\n",
    "print(df.left.value_counts().div(len(df)).mul(100))"
   ]
  },
  {
   "cell_type": "markdown",
   "id": "2295b1e0",
   "metadata": {},
   "source": [
    "Метрика качества accuracy не подходит для определения качества модели, так как количество уволившихся и не уволившихся сотрудников распределено неравномерно."
   ]
  },
  {
   "cell_type": "code",
   "execution_count": 48,
   "id": "a370eb50",
   "metadata": {},
   "outputs": [],
   "source": [
    "from sklearn.metrics import confusion_matrix\n",
    "from sklearn.metrics import classification_report"
   ]
  },
  {
   "cell_type": "code",
   "execution_count": 54,
   "id": "938bf24a",
   "metadata": {},
   "outputs": [
    {
     "name": "stdout",
     "output_type": "stream",
     "text": [
      "[[ 164  562]\n",
      " [ 179 2095]]\n"
     ]
    }
   ],
   "source": [
    "#матрица ошибок\n",
    "r = sklearn.metrics.confusion_matrix(y_test, y_pred)\n",
    "r = np.flip(r)\n",
    "print(r)"
   ]
  },
  {
   "cell_type": "code",
   "execution_count": 55,
   "id": "aed27987",
   "metadata": {},
   "outputs": [
    {
     "name": "stdout",
     "output_type": "stream",
     "text": [
      "0.478134110787172\n"
     ]
    }
   ],
   "source": [
    "precision = sklearn.metrics.precision_score(y_test, y_pred)\n",
    "print(precision)"
   ]
  },
  {
   "cell_type": "code",
   "execution_count": 56,
   "id": "199f54fe",
   "metadata": {},
   "outputs": [
    {
     "name": "stdout",
     "output_type": "stream",
     "text": [
      "0.22589531680440772\n"
     ]
    }
   ],
   "source": [
    "recall = sklearn.metrics.recall_score(y_test, y_pred)\n",
    "print(recall)"
   ]
  },
  {
   "cell_type": "code",
   "execution_count": 57,
   "id": "b0c4306f",
   "metadata": {},
   "outputs": [
    {
     "data": {
      "text/plain": [
       "'              precision    recall  f1-score   support\\n\\n           0       0.79      0.92      0.85      2274\\n           1       0.48      0.23      0.31       726\\n\\n    accuracy                           0.75      3000\\n   macro avg       0.63      0.57      0.58      3000\\nweighted avg       0.71      0.75      0.72      3000\\n'"
      ]
     },
     "execution_count": 57,
     "metadata": {},
     "output_type": "execute_result"
    }
   ],
   "source": [
    "classification_report(y_test, y_pred)"
   ]
  },
  {
   "cell_type": "markdown",
   "id": "43554ac6",
   "metadata": {},
   "source": [
    "Наша модель допускает довольно много ошибок, несмотря на то, что из общего количества тестовой выборки верных предсказаний 75% (Хотя и этот показатель довольно мал. Каждое четвертое предсказание ошибочно). \n",
    "Показатель precision 0,48 - то есть можно сказать, что ложно позитивно уволенными определены 52 человека из 100 - они на самом деле не уволены.\n",
    "Показатель recall 0,23 - то есть ложно негативно не уволенными определены 77 человек из 100 - они на самом деле уволены."
   ]
  }
 ],
 "metadata": {
  "kernelspec": {
   "display_name": "Python 3 (ipykernel)",
   "language": "python",
   "name": "python3"
  },
  "language_info": {
   "codemirror_mode": {
    "name": "ipython",
    "version": 3
   },
   "file_extension": ".py",
   "mimetype": "text/x-python",
   "name": "python",
   "nbconvert_exporter": "python",
   "pygments_lexer": "ipython3",
   "version": "3.9.7"
  }
 },
 "nbformat": 4,
 "nbformat_minor": 5
}
